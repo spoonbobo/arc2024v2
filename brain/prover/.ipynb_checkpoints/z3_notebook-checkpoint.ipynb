{
 "cells": [
  {
   "cell_type": "code",
   "execution_count": 1,
   "id": "9b38c5b6-9503-4451-829a-4d0b500372ca",
   "metadata": {},
   "outputs": [],
   "source": [
    "# https://github.com/Z3Prover/z3/tree/master/examples/python\n",
    "from z3 import *"
   ]
  },
  {
   "cell_type": "code",
   "execution_count": 2,
   "id": "0c1c0e53-606d-41c6-89d0-bc79e0bfeef2",
   "metadata": {},
   "outputs": [],
   "source": [
    "gridi = [[0,0,0],\n",
    "         [1,1,1]]\n",
    "\n",
    "grido = [[1,1,1],\n",
    "         [0,0,0]]\n",
    "\n",
    "# it's a rot180"
   ]
  },
  {
   "cell_type": "code",
   "execution_count": null,
   "id": "f9de0270-2109-4c23-a3f1-2f24feff47ed",
   "metadata": {},
   "outputs": [],
   "source": []
  }
 ],
 "metadata": {
  "kernelspec": {
   "display_name": "Python 3 (ipykernel)",
   "language": "python",
   "name": "python3"
  },
  "language_info": {
   "codemirror_mode": {
    "name": "ipython",
    "version": 3
   },
   "file_extension": ".py",
   "mimetype": "text/x-python",
   "name": "python",
   "nbconvert_exporter": "python",
   "pygments_lexer": "ipython3",
   "version": "3.11.9"
  }
 },
 "nbformat": 4,
 "nbformat_minor": 5
}
